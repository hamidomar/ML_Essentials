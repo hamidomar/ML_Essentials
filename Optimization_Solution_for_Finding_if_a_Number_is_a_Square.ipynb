{
  "nbformat": 4,
  "nbformat_minor": 0,
  "metadata": {
    "colab": {
      "name": "Optimization Solution for Finding if a Number is a Square",
      "provenance": []
    },
    "kernelspec": {
      "name": "python3",
      "display_name": "Python 3"
    },
    "language_info": {
      "name": "python"
    }
  },
  "cells": [
    {
      "cell_type": "markdown",
      "metadata": {
        "id": "2j0tw6TE0NFD"
      },
      "source": [
        "# Gradient Descent Optimization\n",
        "\n",
        "It is a first order optimization algorithm as it explicitly makes use of first order derivatives of target objective function. In other words, it utilises the slope of the function in order to perform optimization.\n",
        "\n",
        "If the target variable takes multiple input values then it becomes multivariate function and the input variable can be thought of as a vector. In that case the derivative of the input vector is thought of as a gradient. \n",
        "\n",
        "**Gradient**: First order derivative for a multivariate objective function.\n",
        "\n",
        "Derivative of the gradient points in the direction of steepest ascent of the target function.  \n",
        "\n",
        "Using the target function, we can check whether the target function is increasing or decreasing at that point. \n",
        "\n",
        "Positive gradient : Function is increasing at that point\n",
        "\n",
        "Negative gradient : Function is decreasing at that point\n",
        "\n",
        "GD is the name of the optimisation algorithm that follows the negative of the gradient downhill of the target function to locate the minimum of the function.\n",
        "\n",
        "So to implement Gradient Descent we calculate the first order of the target function(the gradient) at a given point, and susbequently we iteratively update parameters of the objective function till a stop condition is met. \n",
        "\n",
        "Gradient Descent is not a lone algorithm but rather a family of algortihms, all of which utilise first-order of derivatives to navigate to the optima of a target function. Variations of the optimisers are usually named after the modification that they make to the original version.\n",
        "\n",
        "SGD is one of those variations and this version is commonly used for deep learning tasks and training of deep neural networks.\n",
        "\n",
        "Since gradient descent depends on finding gradients for optimisation, it can only be applied to differentiable functions. "
      ]
    },
    {
      "cell_type": "markdown",
      "metadata": {
        "id": "UWnApppHE6b9"
      },
      "source": [
        "# The Algorithm\n",
        "\n",
        "The GD algorithm involves target function viz being optimised as well as derivative of the target function. \n",
        "\n",
        "Target function f() returns a score for a given set of inputs and the f()' gives derivative of the target function.\n",
        "\n",
        "**Objective Function**\n",
        "Calculates score for a given set of input parameters.\n",
        "\n",
        "**Derivative Function**\n",
        "Caclulates derivative(gradient) of the objective function for a given set of inputs.\n",
        "\n",
        "GD starts with a randomly allocated point from a selected input space. Let the input be x.\n",
        "\n",
        "The derivatives(f'(x) in this case) is calculated in order to provide gradient  at that point.\n",
        "\n",
        "A learning rate is multiplied to the gradient which defines the step size the model will take in order to reach the minima.\n",
        "\n",
        "Learning rate has to be optimal for proper convergence. Usually done via trial and error, and it changes depending on the target function.\n",
        "\n",
        "x_new = x - alpha*f'(x)\n",
        "\n",
        "Step size is proportional to gradient of the objective function.\n",
        "\n",
        "Small step size will lead to smaller updation of parameters and that will increase the time it takes for the function to reach its optima. \n",
        "\n",
        "There has to be some stop condition specified so that updation can be stopped. Usually, training stops when the function reaches an optima. \n",
        "\n",
        "Often, a flat surface is a common location for algortihms such as these to stop because gradient there is 0.\n",
        "\n",
        "Stop condition can potentially be specified in terms of the value of objective function at that point\n"
      ]
    },
    {
      "cell_type": "markdown",
      "metadata": {
        "id": "JsJlq63SC18Q"
      },
      "source": [
        "# Problem Statement\n",
        "\n",
        "Given a number, we have to use gradient descent to check whether or not that number is a perfect square.\n",
        "\n",
        "For this use case, we can use the objective function: (x**2 - num)**2 as we want the absolute form which we can minimize till it reaches 0. "
      ]
    },
    {
      "cell_type": "markdown",
      "metadata": {
        "id": "6r5-GTwOE5b6"
      },
      "source": [
        "# Implementation"
      ]
    },
    {
      "cell_type": "code",
      "metadata": {
        "id": "9bj4MG5pmq15"
      },
      "source": [
        "import numpy as np\n",
        "from matplotlib import pyplot\n",
        "\n",
        "num = 16"
      ],
      "execution_count": 18,
      "outputs": []
    },
    {
      "cell_type": "code",
      "metadata": {
        "colab": {
          "base_uri": "https://localhost:8080/",
          "height": 265
        },
        "id": "zj_yLXgeoB_I",
        "outputId": "09336197-d907-4e39-b165-d26fbf528920"
      },
      "source": [
        "def objective_func(x):\n",
        "    return (x**2 - num)**2\n",
        "\n",
        "def derivative(x):\n",
        "    return 4*x*(x**2 - num)\n",
        "\n",
        "boundaries = np.arange(-5, 5, 0.1)\n",
        "\n",
        "# Plot of objective functions as well as it's derivative.\n",
        "\n",
        "# This can be done as a safety check which ensures that we have specifies the right functions\n",
        "pyplot.plot(boundaries, objective_func(boundaries))\n",
        "pyplot.plot(boundaries, derivative(boundaries))\n",
        "pyplot.show()"
      ],
      "execution_count": 19,
      "outputs": [
        {
          "output_type": "display_data",
          "data": {
            "image/png": "[encoded data removed]",
            "text/plain": [
              "<Figure size 432x288 with 1 Axes>"
            ]
          },
          "metadata": {
            "tags": [],
            "needs_background": "light"
          }
        }
      ]
    },
    {
      "cell_type": "code",
      "metadata": {
        "id": "c9bluaZZp_cj"
      },
      "source": [
        "def gradient_descent():\n",
        "  solution = np.random.rand(1)\n",
        "  n_iter = 50\n",
        "  lr = 0.01\n",
        "  for i in range(n_iter):\n",
        "    \n",
        "    gradient = derivative(solution)               # finding gradient\n",
        "    solution = solution - gradient*lr             # updating value of sollution\n",
        "    solution_eval = objective_func(solution)      # calculating result of objective function on the new \"solution\"\n",
        "    if(solution_eval == 0):                       # we stop when value of the target function is 0\n",
        "      break\n",
        "\n",
        "  return(\"Done\", solution, solution_eval)  "
      ],
      "execution_count": 28,
      "outputs": []
    },
    {
      "cell_type": "code",
      "metadata": {
        "colab": {
          "base_uri": "https://localhost:8080/"
        },
        "id": "rJFiOhhYvfB5",
        "outputId": "0251c733-26ee-46c6-95da-62b1f41b6b37"
      },
      "source": [
        "gradient_descent()"
      ],
      "execution_count": 27,
      "outputs": [
        {
          "output_type": "execute_result",
          "data": {
            "text/plain": [
              "('Done', array([4.]), array([0.]))"
            ]
          },
          "metadata": {
            "tags": []
          },
          "execution_count": 27
        }
      ]
    },
    {
      "cell_type": "markdown",
      "metadata": {
        "id": "wL9ax1SqEslB"
      },
      "source": [
        "We could have also used the value of x in order to stop the loop, however, that would carry the assumption that we already know the square root of our input variable. "
      ]
    }
  ]
}